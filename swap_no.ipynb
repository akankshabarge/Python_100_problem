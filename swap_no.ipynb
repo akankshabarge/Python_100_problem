{
 "cells": [
  {
   "cell_type": "code",
   "execution_count": 2,
   "metadata": {},
   "outputs": [
    {
     "name": "stdout",
     "output_type": "stream",
     "text": [
      "Enter Number 1 :  5\n",
      "Enter Number 2 :  3\n",
      "Before swaping : (5, 3)\n",
      "After swaping : (3, 5)\n"
     ]
    }
   ],
   "source": [
    "num1=int(input(\"Enter Number 1 : \"))\n",
    "num2=int(input(\"Enter Number 2 : \"))\n",
    "\n",
    "print(\"Enter Number 1 : \" ,num1)\n",
    "print(\"Enter Number 2 : \" ,num2)\n",
    "\n",
    "swap_no = (num1,num2==num2,num1 )\n",
    "\n",
    "print(\"Before swaping :\" ,(num1,num2))\n",
    "print(\"After swaping :\" ,(num2,num1))"
   ]
  }
 ],
 "metadata": {
  "kernelspec": {
   "display_name": "Python 3",
   "language": "python",
   "name": "python3"
  },
  "language_info": {
   "codemirror_mode": {
    "name": "ipython",
    "version": 3
   },
   "file_extension": ".py",
   "mimetype": "text/x-python",
   "name": "python",
   "nbconvert_exporter": "python",
   "pygments_lexer": "ipython3",
   "version": "3.12.4"
  }
 },
 "nbformat": 4,
 "nbformat_minor": 2
}
