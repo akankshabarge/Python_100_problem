{
 "cells": [
  {
   "cell_type": "code",
   "execution_count": 2,
   "metadata": {},
   "outputs": [
    {
     "name": "stdout",
     "output_type": "stream",
     "text": [
      "You have made profit of :  200\n"
     ]
    }
   ],
   "source": [
    "cost_price= int(input(\"Enter the cost price : \"))\n",
    "selling_price=int(input(\"Enter the selling price : \"))\n",
    "\n",
    "if selling_price>cost_price :\n",
    "    profit=selling_price - cost_price\n",
    "    print (\"You have made profit of : \",profit)\n",
    "else:\n",
    "    loss=cost_price-selling_price\n",
    "    print(\"you have made loss of : \",loss)\n"
   ]
  }
 ],
 "metadata": {
  "kernelspec": {
   "display_name": "Python 3",
   "language": "python",
   "name": "python3"
  },
  "language_info": {
   "codemirror_mode": {
    "name": "ipython",
    "version": 3
   },
   "file_extension": ".py",
   "mimetype": "text/x-python",
   "name": "python",
   "nbconvert_exporter": "python",
   "pygments_lexer": "ipython3",
   "version": "3.12.4"
  }
 },
 "nbformat": 4,
 "nbformat_minor": 2
}
