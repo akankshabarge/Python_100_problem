{
 "cells": [
  {
   "cell_type": "code",
   "execution_count": null,
   "metadata": {},
   "outputs": [],
   "source": [
    "A1=int(input(\"Enter the first angel : \"))\n",
    "A2=int(input(\"Enter the second angel : \"))\n",
    "A3=int(input(\"Enter the Third angel : \"))\n",
    "\n",
    "if A1>0 and A2>0 and A3>0 and A1+A2+A3==180:\n",
    "    print (\"It is a Triangle\")\n",
    "else:\n",
    "    print(\"It is not Triangle\")    "
   ]
  }
 ],
 "metadata": {
  "kernelspec": {
   "display_name": "Python 3",
   "language": "python",
   "name": "python3"
  },
  "language_info": {
   "name": "python",
   "version": "3.12.4"
  }
 },
 "nbformat": 4,
 "nbformat_minor": 2
}
