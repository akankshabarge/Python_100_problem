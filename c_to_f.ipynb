{
 "cells": [
  {
   "cell_type": "code",
   "execution_count": null,
   "metadata": {},
   "outputs": [
    {
     "name": "stdout",
     "output_type": "stream",
     "text": [
      "Enter the Celsius :  5\n",
      " Celsius to Fahrenheit is :  41.0\n"
     ]
    }
   ],
   "source": [
    "Celsius = int(input(\"Enter the celsius : \"))\n",
    "Fahrenheit= Celsius*1.8+32\n",
    "print(\"Enter the Celsius : \",Celsius)\n",
    "print(\" Celsius to Fahrenheit is : \",Fahrenheit)"
   ]
  }
 ],
 "metadata": {
  "kernelspec": {
   "display_name": "Python 3",
   "language": "python",
   "name": "python3"
  },
  "language_info": {
   "codemirror_mode": {
    "name": "ipython",
    "version": 3
   },
   "file_extension": ".py",
   "mimetype": "text/x-python",
   "name": "python",
   "nbconvert_exporter": "python",
   "pygments_lexer": "ipython3",
   "version": "3.12.4"
  }
 },
 "nbformat": 4,
 "nbformat_minor": 2
}
