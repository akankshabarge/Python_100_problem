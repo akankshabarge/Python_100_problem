{
 "cells": [
  {
   "cell_type": "code",
   "execution_count": 13,
   "metadata": {},
   "outputs": [
    {
     "name": "stdout",
     "output_type": "stream",
     "text": [
      "A3 is the largest age : 9\n"
     ]
    }
   ],
   "source": [
    "A1=int(input(\"Enter age 1 : \"))\n",
    "A2 =int(input(\"Enter age 2 : \"))\n",
    "A3=int(input(\"Enter age 3 : \"))\n",
    "\n",
    "#logic\n",
    "\n",
    "if A1>A2 and A1>A3:\n",
    "    print(\"A1 is the largest age : \",A1)\n",
    "elif A2>A1 and A2>A3:\n",
    "    print(\"A1 is the largest age : \",A1)\n",
    "else  :\n",
    "       print (\"A3 is the largest age :\", A3)\n",
    "\n",
    "\n",
    "\n",
    "\n",
    "\n",
    "\n",
    "\n"
   ]
  }
 ],
 "metadata": {
  "kernelspec": {
   "display_name": "Python 3",
   "language": "python",
   "name": "python3"
  },
  "language_info": {
   "codemirror_mode": {
    "name": "ipython",
    "version": 3
   },
   "file_extension": ".py",
   "mimetype": "text/x-python",
   "name": "python",
   "nbconvert_exporter": "python",
   "pygments_lexer": "ipython3",
   "version": "3.12.4"
  }
 },
 "nbformat": 4,
 "nbformat_minor": 2
}
