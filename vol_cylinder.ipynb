{
 "cells": [
  {
   "cell_type": "code",
   "execution_count": 3,
   "metadata": {},
   "outputs": [],
   "source": [
    "import math"
   ]
  },
  {
   "cell_type": "code",
   "execution_count": 4,
   "metadata": {},
   "outputs": [
    {
     "name": "stdout",
     "output_type": "stream",
     "text": [
      "volume of cylinder is :   9424.77796076938\n",
      "Volume in liters is :  9.42477796076938\n",
      "cost per liter is :  376.99111843077515\n",
      "Total cost of milk :  3553.0575843921683\n"
     ]
    }
   ],
   "source": [
    "radius=int(input(\"Enter the radius of the cylinder : \"))\n",
    "height=int(input(\"Enter the height of the cylinder : \"))\n",
    "\n",
    "volume_cylinder=math.pi*radius**2*height\n",
    "\n",
    "vol_in_liters=volume_cylinder/1000\n",
    "\n",
    "cost_per_liter=vol_in_liters*40\n",
    "\n",
    "total_cost=vol_in_liters*cost_per_liter\n",
    "\n",
    "print(\"volume of cylinder is :  \",volume_cylinder)\n",
    "print(\"Volume in liters is : \",vol_in_liters)\n",
    "print(\"cost per liter is : \",cost_per_liter)\n",
    "print (\"Total cost of milk : \",total_cost)"
   ]
  }
 ],
 "metadata": {
  "kernelspec": {
   "display_name": "Python 3",
   "language": "python",
   "name": "python3"
  },
  "language_info": {
   "codemirror_mode": {
    "name": "ipython",
    "version": 3
   },
   "file_extension": ".py",
   "mimetype": "text/x-python",
   "name": "python",
   "nbconvert_exporter": "python",
   "pygments_lexer": "ipython3",
   "version": "3.12.4"
  }
 },
 "nbformat": 4,
 "nbformat_minor": 2
}
