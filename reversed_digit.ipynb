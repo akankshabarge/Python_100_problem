{
 "cells": [
  {
   "cell_type": "code",
   "execution_count": null,
   "metadata": {},
   "outputs": [
    {
     "name": "stdout",
     "output_type": "stream",
     "text": [
      "Reversed number: 4321\n",
      "The reversed number is not the same as the original.\n"
     ]
    }
   ],
   "source": [
    "number = input(\"Enter a four-digit number: \")\n",
    "\n",
    "\n",
    "if len(number) != 4 or not number.isdigit():\n",
    "    print(\"Please enter a valid four-digit number.\")\n",
    "else:\n",
    "    reversed_number = number[::-1]\n",
    "\n",
    "    print(f\"Reversed number: {reversed_number}\")\n",
    "\n",
    "    if number == reversed_number:\n",
    "        print(\"The reversed number is the same as the original .\")\n",
    "    else:\n",
    "        print(\"The reversed number is not the same as the original.\")\n",
    "\n",
    "\n",
    "\n"
   ]
  }
 ],
 "metadata": {
  "kernelspec": {
   "display_name": "Python 3",
   "language": "python",
   "name": "python3"
  },
  "language_info": {
   "codemirror_mode": {
    "name": "ipython",
    "version": 3
   },
   "file_extension": ".py",
   "mimetype": "text/x-python",
   "name": "python",
   "nbconvert_exporter": "python",
   "pygments_lexer": "ipython3",
   "version": "3.12.4"
  }
 },
 "nbformat": 4,
 "nbformat_minor": 2
}
