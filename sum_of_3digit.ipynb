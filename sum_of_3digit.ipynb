{
 "cells": [
  {
   "cell_type": "code",
   "execution_count": 6,
   "metadata": {},
   "outputs": [
    {
     "name": "stdout",
     "output_type": "stream",
     "text": [
      "Summation of 3 digit numbers :  15\n"
     ]
    }
   ],
   "source": [
    "num1=int(input(\"Enter Num 1 : \"))\n",
    "num2=int(input(\"Enter Num 2 : \"))\n",
    "num3=int(input(\"Enter Num 3 : \"))\n",
    "\n",
    "sum =num1+num2+num3\n",
    "\n",
    "print (\"Summation of 3 digit numbers : \",sum)\n",
    "\n"
   ]
  }
 ],
 "metadata": {
  "kernelspec": {
   "display_name": "Python 3",
   "language": "python",
   "name": "python3"
  },
  "language_info": {
   "codemirror_mode": {
    "name": "ipython",
    "version": 3
   },
   "file_extension": ".py",
   "mimetype": "text/x-python",
   "name": "python",
   "nbconvert_exporter": "python",
   "pygments_lexer": "ipython3",
   "version": "3.12.4"
  }
 },
 "nbformat": 4,
 "nbformat_minor": 2
}
