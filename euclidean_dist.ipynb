{
 "cells": [
  {
   "cell_type": "code",
   "execution_count": 5,
   "metadata": {},
   "outputs": [],
   "source": [
    "import math"
   ]
  },
  {
   "cell_type": "code",
   "execution_count": 6,
   "metadata": {},
   "outputs": [
    {
     "name": "stdout",
     "output_type": "stream",
     "text": [
      "The Euclidean Distance :  5.0\n"
     ]
    }
   ],
   "source": [
    "x1 = int(input(\"Enter first x-coordinate\"))\n",
    "y1 = int(input(\"Enter first y-coordinate\"))\n",
    "x2 = int(input(\"Enter second x-coordinate\"))\n",
    "y2 = int(input(\"Enter second y-coordinate\"))\n",
    "\n",
    "Euclidean_distance=math.sqrt ((x2-x1)**2 +(y2-y1)**2)\n",
    "\n",
    "print(\"The Euclidean Distance : \",Euclidean_distance)"
   ]
  }
 ],
 "metadata": {
  "kernelspec": {
   "display_name": "Python 3",
   "language": "python",
   "name": "python3"
  },
  "language_info": {
   "codemirror_mode": {
    "name": "ipython",
    "version": 3
   },
   "file_extension": ".py",
   "mimetype": "text/x-python",
   "name": "python",
   "nbconvert_exporter": "python",
   "pygments_lexer": "ipython3",
   "version": "3.12.4"
  }
 },
 "nbformat": 4,
 "nbformat_minor": 2
}
