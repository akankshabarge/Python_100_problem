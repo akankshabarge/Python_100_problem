{
 "cells": [
  {
   "cell_type": "code",
   "execution_count": null,
   "metadata": {},
   "outputs": [],
   "source": [
    "principal_amt=int(input(\"Enter the principal amount : \"))\n",
    "intrest =int(input(\"Enter the rate of intreat : \")\n",
    "period =int(input(\"Enter the time period : \"))\n",
    "\n",
    "simple_intrest= (principal_amt*intrest*period)\n",
    "\n",
    "print(\"The simple Intrest is : \",simple_intrest)\n"
   ]
  }
 ],
 "metadata": {
  "kernelspec": {
   "display_name": "Python 3",
   "language": "python",
   "name": "python3"
  },
  "language_info": {
   "name": "python",
   "version": "3.12.4"
  }
 },
 "nbformat": 4,
 "nbformat_minor": 2
}
