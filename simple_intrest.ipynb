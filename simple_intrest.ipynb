{
 "cells": [
  {
   "cell_type": "code",
   "execution_count": 2,
   "metadata": {},
   "outputs": [
    {
     "name": "stdout",
     "output_type": "stream",
     "text": [
      "The simple Intrest is :  900.0\n"
     ]
    }
   ],
   "source": [
    "principal_amt=int(input(\"Enter the principal amount : \"))\n",
    "intrest =int(input(\"Enter the rate of intreat : \"))\n",
    "period =int(input(\"Enter the time period : \"))\n",
    "\n",
    "simple_intrest= (principal_amt*intrest*period)/100\n",
    "\n",
    "print(\"The simple Intrest is : \",simple_intrest)\n"
   ]
  }
 ],
 "metadata": {
  "kernelspec": {
   "display_name": "Python 3",
   "language": "python",
   "name": "python3"
  },
  "language_info": {
   "codemirror_mode": {
    "name": "ipython",
    "version": 3
   },
   "file_extension": ".py",
   "mimetype": "text/x-python",
   "name": "python",
   "nbconvert_exporter": "python",
   "pygments_lexer": "ipython3",
   "version": "3.12.4"
  }
 },
 "nbformat": 4,
 "nbformat_minor": 2
}
